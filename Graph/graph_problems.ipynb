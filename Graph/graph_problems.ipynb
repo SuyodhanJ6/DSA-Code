{
 "cells": [
  {
   "attachments": {},
   "cell_type": "markdown",
   "metadata": {},
   "source": [
    "## 133. Clone Graph\n",
    "https://leetcode.com/problems/clone-graph/"
   ]
  },
  {
   "attachments": {},
   "cell_type": "markdown",
   "metadata": {},
   "source": []
  },
  {
   "cell_type": "code",
   "execution_count": 13,
   "metadata": {},
   "outputs": [
    {
     "name": "stdout",
     "output_type": "stream",
     "text": [
      "<__main__.Node object at 0x7f408e750490> <__main__.Node object at 0x7f408e7510c0> <__main__.Node object at 0x7f408e7511b0> <__main__.Node object at 0x7f408e751720> <__main__.Node object at 0x7f408e7513c0>\n"
     ]
    }
   ],
   "source": [
    "class Node:\n",
    "    def __init__(self, data=0, neighbours=None):\n",
    "        self.data = data\n",
    "        if neighbours is None:\n",
    "            self.neighbours = []\n",
    "        else:\n",
    "            self.neighbours = neighbours\n",
    "\n",
    "class Solution:\n",
    "    def cloneGraph(self, v):\n",
    "        def dfs(visited, v, clone):\n",
    "            cloned_copy = Node(v.data)\n",
    "            clone[v] = cloned_copy\n",
    "            if v not in visited:\n",
    "                print(v, end=\" \")\n",
    "                visited.add(v)\n",
    "            for neighbours in v.neighbours:\n",
    "                if neighbours not in visited:\n",
    "                    cloned_copy.neighbours.append(dfs(visited, neighbours, clone))\n",
    "                else:\n",
    "                    cloned_copy.neighbours.append(clone[neighbours])\n",
    "\n",
    "            return cloned_copy\n",
    "        \n",
    "        if not v:\n",
    "            return None\n",
    "            \n",
    "        visited = set()\n",
    "        clone = {}\n",
    "\n",
    "        return dfs(visited, v, clone)\n",
    "\n",
    "node1 = Node(1)\n",
    "node2 = Node(2)\n",
    "node3 = Node(3)\n",
    "node4 = Node(4)\n",
    "\n",
    "node1.neighbours = [node2, node4]\n",
    "node2.neighbours = [node3, node1]\n",
    "node3.neighbours = [node4, node2]\n",
    "node4.neighbours = [node1, node3]\n",
    "\n",
    "solution = Solution()\n",
    "cloned_vertices = solution.cloneGraph(node1)\n",
    "print(cloned_vertices)"
   ]
  },
  {
   "attachments": {},
   "cell_type": "markdown",
   "metadata": {},
   "source": [
    "# 547. Number of Provinces"
   ]
  },
  {
   "cell_type": "code",
   "execution_count": 20,
   "metadata": {},
   "outputs": [],
   "source": [
    "def findCircleNum(isConnected):\n",
    "    \"\"\"\n",
    "    Counts the number of provinces in a graph.\n",
    "\n",
    "    Time complexity:\n",
    "    - Depth-first search (DFS): O(n^2), as in the worst case, all cities are connected.\n",
    "\n",
    "    Space complexity:\n",
    "    - Visited array: O(n), as we keep track of visited cities.\n",
    "    \"\"\"\n",
    "\n",
    "    n = len(isConnected)  # Get the number of cities (vertices)\n",
    "    visited = [False] * n  # Initialize a visited array to track visited cities\n",
    "    provinces = 0  # Initialize the province count\n",
    "\n",
    "    def dfs(city):\n",
    "        visited[city] = True  # Mark the city as visited\n",
    "\n",
    "        for neighbor in range(n):\n",
    "            if isConnected[city][neighbor] == 1 and not visited[neighbor]:\n",
    "                dfs(neighbor)  # Explore the neighbor recursively\n",
    "\n",
    "    # Step 1: Perform depth-first search (DFS) from each unvisited city\n",
    "    # Time complexity: O(n^2)\n",
    "    for city in range(n):\n",
    "        if not visited[city]:\n",
    "            provinces += 1  # Increment the province count\n",
    "            dfs(city)  # Perform DFS from the current city\n",
    "\n",
    "    # Step 2: Return the total number of provinces\n",
    "    return provinces\n"
   ]
  },
  {
   "cell_type": "code",
   "execution_count": 21,
   "metadata": {},
   "outputs": [
    {
     "name": "stdout",
     "output_type": "stream",
     "text": [
      "2\n"
     ]
    }
   ],
   "source": [
    "isConnected = [[1,1,0],[1,1,0],[0,0,1]]\n",
    "print(findCircleNum(isConnected))"
   ]
  },
  {
   "cell_type": "code",
   "execution_count": 22,
   "metadata": {},
   "outputs": [
    {
     "name": "stdout",
     "output_type": "stream",
     "text": [
      "2\n"
     ]
    }
   ],
   "source": [
    "from collections import deque\n",
    "\n",
    "def findCircleNum(isConnected):\n",
    "    \"\"\"\n",
    "    Counts the number of provinces in a graph using breadth-first search (BFS).\n",
    "\n",
    "    Time complexity:\n",
    "    - Breadth-first search (BFS): O(n^2), as in the worst case, all cities are connected.\n",
    "\n",
    "    Space complexity:\n",
    "    - Visited array: O(n), as we keep track of visited cities.\n",
    "    \"\"\"\n",
    "\n",
    "    n = len(isConnected)  # Get the number of cities (vertices)\n",
    "    visited = [False] * n  # Initialize a visited array to track visited cities\n",
    "    provinces = 0  # Initialize the province count\n",
    "\n",
    "    def bfs(city):\n",
    "        queue = deque()\n",
    "        queue.append(city)\n",
    "        visited[city] = True  # Mark the city as visited\n",
    "\n",
    "        while queue:\n",
    "            current_city = queue.popleft()\n",
    "\n",
    "            for neighbor in range(n):\n",
    "                if isConnected[current_city][neighbor] == 1 and not visited[neighbor]:\n",
    "                    queue.append(neighbor)\n",
    "                    visited[neighbor] = True\n",
    "\n",
    "    # Step 1: Perform breadth-first search (BFS) from each unvisited city\n",
    "    # Time complexity: O(n^2)\n",
    "    for city in range(n):\n",
    "        if not visited[city]:\n",
    "            provinces += 1  # Increment the province count\n",
    "            bfs(city)  # Perform BFS from the current city\n",
    "\n",
    "    # Step 2: Return the total number of provinces\n",
    "    return provinces\n",
    "\n",
    "isConnected = [[1,1,0],[1,1,0],[0,0,1]]\n",
    "print(findCircleNum(isConnected))"
   ]
  },
  {
   "cell_type": "code",
   "execution_count": null,
   "metadata": {},
   "outputs": [],
   "source": []
  },
  {
   "cell_type": "code",
   "execution_count": null,
   "metadata": {},
   "outputs": [],
   "source": []
  },
  {
   "attachments": {},
   "cell_type": "markdown",
   "metadata": {},
   "source": [
    "# 2685. Count the Number of Complete Components"
   ]
  },
  {
   "cell_type": "code",
   "execution_count": null,
   "metadata": {},
   "outputs": [],
   "source": []
  },
  {
   "cell_type": "code",
   "execution_count": 44,
   "metadata": {},
   "outputs": [],
   "source": [
    "from collections import defaultdict\n",
    "edges  = [[0,1],[0,2],[1,2],[3,4],[3,5]]\n",
    "graph = defaultdict(list)\n",
    "\n",
    "for u, v in edges:\n",
    "    graph[u].append(v)\n",
    "    graph[v].append(u)\n",
    "len(graph)"
   ]
  },
  {
   "cell_type": "code",
   "execution_count": 45,
   "metadata": {},
   "outputs": [],
   "source": [
    "\n",
    "for u, v in edges:\n",
    "    graph[u].append(v)\n",
    "    graph[v].append(u)\n",
    " "
   ]
  },
  {
   "cell_type": "code",
   "execution_count": 46,
   "metadata": {},
   "outputs": [
    {
     "data": {
      "text/plain": [
       "6"
      ]
     },
     "execution_count": 46,
     "metadata": {},
     "output_type": "execute_result"
    }
   ],
   "source": [
    "len(graph)"
   ]
  },
  {
   "cell_type": "code",
   "execution_count": 48,
   "metadata": {},
   "outputs": [
    {
     "data": {
      "text/plain": [
       "defaultdict(list, {0: [1, 2], 1: [0, 2], 2: [0, 1], 3: [4, 5], 4: [3], 5: [3]})"
      ]
     },
     "execution_count": 48,
     "metadata": {},
     "output_type": "execute_result"
    }
   ],
   "source": [
    "graph"
   ]
  },
  {
   "cell_type": "code",
   "execution_count": 1,
   "metadata": {},
   "outputs": [
    {
     "name": "stdout",
     "output_type": "stream",
     "text": [
      "2\n"
     ]
    }
   ],
   "source": [
    "from collections import defaultdict\n",
    "\n",
    "def countComponents(n, edges):\n",
    "    \"\"\"\n",
    "    Counts the number of complete components in a graph.\n",
    "\n",
    "    Time complexity:\n",
    "    - Depth-first search (DFS): O(n + E), where n is the number of vertices and E is the number of edges.\n",
    "\n",
    "    Space complexity:\n",
    "    - Visited array: O(n), as we keep track of visited vertices.\n",
    "    - Adjacency list: O(n + E), as we store the graph representation.\n",
    "    \"\"\"\n",
    "\n",
    "    # Step 1: Create an adjacency list representation of the graph\n",
    "    graph = defaultdict(list)\n",
    "    for u, v in edges:\n",
    "        graph[u].append(v)\n",
    "        graph[v].append(u)\n",
    "\n",
    "    # Step 2: Perform depth-first search (DFS) to count the complete components\n",
    "    visited = [False] * n  # Initialize a visited array to track visited vertices\n",
    "    components = 0  # Initialize the component count\n",
    "\n",
    "    def dfs(vertex):\n",
    "        visited[vertex] = True  # Mark the vertex as visited\n",
    "\n",
    "        for neighbor in graph[vertex]:\n",
    "            if not visited[neighbor]:\n",
    "                dfs(neighbor)  # Explore the neighbor recursively\n",
    "\n",
    "    for vertex in range(n):\n",
    "        if not visited[vertex]:\n",
    "            components += 1  # Increment the component count\n",
    "            dfs(vertex)  # Perform DFS from the current vertex\n",
    "\n",
    "    # Step 3: Return the total number of complete components\n",
    "    return components\n",
    "\n",
    "n = 6\n",
    "edges = [[0,1],[0,2],[1,2],[3,4],[3,5]]\n",
    "print(countComponents(n, edges))"
   ]
  },
  {
   "cell_type": "code",
   "execution_count": 2,
   "metadata": {},
   "outputs": [
    {
     "name": "stdout",
     "output_type": "stream",
     "text": [
      "2\n"
     ]
    }
   ],
   "source": [
    "from collections import defaultdict\n",
    "\n",
    "def countComponents(n, edges):\n",
    "    \"\"\"\n",
    "    Counts the number of connected components in a graph.\n",
    "\n",
    "    Time complexity:\n",
    "    - Depth-first search (DFS): O(n + E), where n is the number of vertices and E is the number of edges.\n",
    "\n",
    "    Space complexity:\n",
    "    - Visited array: O(n), as we keep track of visited vertices.\n",
    "    - Adjacency list: O(n + E), as we store the graph representation.\n",
    "    \"\"\"\n",
    "\n",
    "    # Step 1: Create an adjacency list representation of the graph\n",
    "    graph = defaultdict(list)\n",
    "    for u, v in edges:\n",
    "        graph[u].append(v)\n",
    "        graph[v].append(u)\n",
    "\n",
    "    # Step 2: Perform depth-first search (DFS) to count the connected components\n",
    "    visited = [False] * n  # Initialize a visited array to track visited vertices\n",
    "    components = 0  # Initialize the component count\n",
    "\n",
    "    def dfs(vertex):\n",
    "        visited[vertex] = True  # Mark the vertex as visited\n",
    "\n",
    "        for neighbor in graph[vertex]:\n",
    "            if not visited[neighbor]:\n",
    "                dfs(neighbor)  # Explore the neighbor recursively\n",
    "\n",
    "    for vertex in range(n):\n",
    "        if not visited[vertex]:\n",
    "            components += 1  # Increment the component count\n",
    "            dfs(vertex)  # Perform DFS from the current vertex\n",
    "\n",
    "    # Step 3: Return the total number of connected components\n",
    "    return components\n",
    "\n",
    "n = 6\n",
    "edges = [[0,1],[0,2],[1,2],[3,4],[3,5]]\n",
    "print(countComponents(n, edges))\n",
    "\n"
   ]
  },
  {
   "attachments": {},
   "cell_type": "markdown",
   "metadata": {},
   "source": [
    "## 207. Course Schedule\n"
   ]
  },
  {
   "cell_type": "code",
   "execution_count": 1,
   "metadata": {},
   "outputs": [
    {
     "name": "stdout",
     "output_type": "stream",
     "text": [
      "False\n"
     ]
    }
   ],
   "source": [
    "from collections import defaultdict\n",
    "\n",
    "def canFinish(numCourses, prerequisites):\n",
    "    \"\"\"\n",
    "    Determines if it is possible to finish all courses given the prerequisites.\n",
    "\n",
    "    Time complexity:\n",
    "    - Depth-First Search (DFS): O(V + E), where V is the number of courses (vertices) and E is the number of prerequisites (edges).\n",
    "\n",
    "    Space complexity:\n",
    "    - Visited array: O(V), as we keep track of visited courses.\n",
    "    - Adjacency list: O(V + E), as we store the prerequisites in a graph representation.\n",
    "    \"\"\"\n",
    "\n",
    "    # Step 1: Create an adjacency list representation of the graph\n",
    "    graph = defaultdict(list)\n",
    "    for prerequisite, course in prerequisites:\n",
    "        graph[prerequisite].append(course)\n",
    "\n",
    "    # Step 2: Perform Depth-First Search (DFS) to detect cycles\n",
    "    visited = [0] * numCourses  # Initialize visited array (0 = not visited, 1 = visiting, 2 = visited)\n",
    "\n",
    "    def dfs(course):\n",
    "        if visited[course] == 1:\n",
    "            return False  # Cycle detected\n",
    "        if visited[course] == 2:\n",
    "            return True  # Already visited\n",
    "\n",
    "        visited[course] = 1  # Mark the course as visiting\n",
    "\n",
    "        for neighbor in graph[course]:\n",
    "            if not dfs(neighbor):\n",
    "                return False  # Cycle detected\n",
    "\n",
    "        visited[course] = 2  # Mark the course as visited\n",
    "        return True\n",
    "\n",
    "    # Step 3: Check if there are any cycles in the graph\n",
    "    for course in range(numCourses):\n",
    "        if not dfs(course):\n",
    "            return False  # Cycle detected, unable to finish all courses\n",
    "\n",
    "    # Step 4: No cycles detected, it is possible to finish all courses\n",
    "    return True\n",
    "\n",
    "numCourses = 2\n",
    "prerequisites = [[1,0],[0, 1]]\n",
    "\n",
    "print(canFinish(numCourses, prerequisites))  # Output: True\n"
   ]
  },
  {
   "cell_type": "code",
   "execution_count": null,
   "metadata": {},
   "outputs": [],
   "source": []
  },
  {
   "attachments": {},
   "cell_type": "markdown",
   "metadata": {},
   "source": [
    "## 210. Course Schedule II\n"
   ]
  },
  {
   "cell_type": "code",
   "execution_count": 6,
   "metadata": {},
   "outputs": [
    {
     "name": "stdout",
     "output_type": "stream",
     "text": [
      "[0, 2, 1, 3]\n"
     ]
    }
   ],
   "source": [
    "from collections import defaultdict\n",
    "\n",
    "def findOrder(numCourses, prerequisites):\n",
    "    \"\"\"\n",
    "    Determines the order in which the courses should be taken given the prerequisites using DFS.\n",
    "\n",
    "    Time complexity:\n",
    "    - DFS: O(V + E), where V is the number of courses (vertices) and E is the number of prerequisites (edges).\n",
    "\n",
    "    Space complexity:\n",
    "    - Graph: O(V + E), as we store the graph using an adjacency list.\n",
    "    - Visited array: O(V), as we keep track of visited courses.\n",
    "    - Course order: O(V), as we store the order of courses.\n",
    "    \"\"\"\n",
    "\n",
    "    # Step 1: Create an adjacency list representation of the graph\n",
    "    graph = defaultdict(list)\n",
    "    for course, prerequisite in prerequisites:\n",
    "        graph[prerequisite].append(course)\n",
    "\n",
    "    # Step 2: Perform DFS to find the course order\n",
    "    visited = [0] * numCourses\n",
    "    order = []\n",
    "\n",
    "    def dfs(course):\n",
    "        if visited[course] == 1:  # Detect cycle\n",
    "            return False\n",
    "        if visited[course] == 2:  # Course already visited\n",
    "            return True\n",
    "\n",
    "        visited[course] = 1  # Mark course as being visited\n",
    "\n",
    "        for neighbor in graph[course]:\n",
    "            if not dfs(neighbor):  # DFS on prerequisite courses\n",
    "                return False\n",
    "\n",
    "        visited[course] = 2  # Mark course as visited\n",
    "        order.append(course)  # Add course to the order\n",
    "\n",
    "        return True\n",
    "\n",
    "    # Perform DFS on each unvisited course\n",
    "    for course in range(numCourses):\n",
    "        if not dfs(course):\n",
    "            return []\n",
    "\n",
    "    return order[::-1]  # Reverse the order to get the correct course sequence\n",
    "\n",
    "numCourses = 4\n",
    "prerequisites = [[1,0],[2,0],[3,1],[3,2]]\n",
    "\n",
    "print(findOrder(numCourses, prerequisites))  # Output: [0, 2, 1, 3]\n"
   ]
  },
  {
   "cell_type": "code",
   "execution_count": 7,
   "metadata": {},
   "outputs": [],
   "source": [
    "graph = [[] for _ in range(4)]"
   ]
  },
  {
   "cell_type": "code",
   "execution_count": 8,
   "metadata": {},
   "outputs": [
    {
     "data": {
      "text/plain": [
       "[[], [], [], []]"
      ]
     },
     "execution_count": 8,
     "metadata": {},
     "output_type": "execute_result"
    }
   ],
   "source": [
    "graph"
   ]
  },
  {
   "cell_type": "code",
   "execution_count": 9,
   "metadata": {},
   "outputs": [
    {
     "name": "stdout",
     "output_type": "stream",
     "text": [
      "[0, 1, 2, 3]\n"
     ]
    }
   ],
   "source": [
    "from collections import deque\n",
    "\n",
    "def findOrder(numCourses, prerequisites):\n",
    "    \"\"\"\n",
    "    Determines the order in which the courses should be taken given the prerequisites using topological sort.\n",
    "\n",
    "    Time complexity:\n",
    "    - Topological Sort: O(V + E), where V is the number of courses (vertices) and E is the number of prerequisites (edges).\n",
    "\n",
    "    Space complexity:\n",
    "    - Indegree array: O(V), as we keep track of the indegree of each course.\n",
    "    - Adjacency list: O(V + E), as we store the prerequisites in a graph representation.\n",
    "    \"\"\"\n",
    "\n",
    "    # Step 1: Create an adjacency list representation of the graph\n",
    "    graph = [[] for _ in range(numCourses)]\n",
    "    indegree = [0] * numCourses\n",
    "\n",
    "    for course, prerequisite in prerequisites:\n",
    "        graph[prerequisite].append(course)\n",
    "        indegree[course] += 1\n",
    "\n",
    "    # Step 2: Perform Topological Sort\n",
    "    queue = deque()\n",
    "    order = []\n",
    "\n",
    "    # Add courses with 0 indegree to the queue\n",
    "    for course in range(numCourses):\n",
    "        if indegree[course] == 0:\n",
    "            queue.append(course)\n",
    "\n",
    "    while queue:\n",
    "        prerequisite = queue.popleft()\n",
    "        order.append(prerequisite)\n",
    "        numCourses -= 1\n",
    "\n",
    "        for course in graph[prerequisite]:\n",
    "            indegree[course] -= 1\n",
    "\n",
    "            if indegree[course] == 0:\n",
    "                queue.append(course)\n",
    "\n",
    "    # Step 3: Check if all courses can be finished (no cycles)\n",
    "    if numCourses == 0:\n",
    "        return order\n",
    "    else:\n",
    "        return []\n",
    "\n",
    "numCourses = 4\n",
    "prerequisites = [[1,0],[2,0],[3,1],[3,2]]\n",
    "\n",
    "print(findOrder(numCourses, prerequisites))  # Output: [0, 1, 2, 3]\n"
   ]
  },
  {
   "cell_type": "code",
   "execution_count": null,
   "metadata": {},
   "outputs": [],
   "source": []
  },
  {
   "attachments": {},
   "cell_type": "markdown",
   "metadata": {},
   "source": [
    "## 310. Minimum Height Trees\n"
   ]
  },
  {
   "cell_type": "code",
   "execution_count": 10,
   "metadata": {},
   "outputs": [],
   "source": [
    "min_height  = float('inf')"
   ]
  },
  {
   "cell_type": "code",
   "execution_count": 16,
   "metadata": {},
   "outputs": [
    {
     "name": "stdout",
     "output_type": "stream",
     "text": [
      "Hello\n"
     ]
    }
   ],
   "source": [
    "if 0 < min_height:\n",
    "    print(\"Hello\")"
   ]
  },
  {
   "cell_type": "code",
   "execution_count": 27,
   "metadata": {},
   "outputs": [
    {
     "name": "stdout",
     "output_type": "stream",
     "text": [
      "[1]\n"
     ]
    }
   ],
   "source": [
    "from collections import defaultdict, deque\n",
    "\n",
    "def findMinHeightTrees(n, edges):\n",
    "    \"\"\"\n",
    "    Finds the root(s) of the minimum height trees in a graph.\n",
    "\n",
    "    Time complexity:\n",
    "    - BFS: O(V + E), where V is the number of nodes (vertices) and E is the number of edges.\n",
    "\n",
    "    Space complexity:\n",
    "    - Graph: O(V + E), as we store the graph using an adjacency list.\n",
    "    - Visited array: O(V), as we keep track of visited nodes.\n",
    "    - Queue: O(V), as the maximum number of nodes in the queue is V during BFS.\n",
    "    \"\"\"\n",
    "\n",
    "    # Step 1: Create an adjacency list representation of the graph\n",
    "    graph = defaultdict(list)\n",
    "    for u, v in edges:\n",
    "        graph[u].append(v)\n",
    "        graph[v].append(u)\n",
    "    \n",
    "    # Step 2: Perform BFS from each node to calculate heights\n",
    "    def bfs(start):\n",
    "        visited = [False] * n\n",
    "        height = 0\n",
    "        queue = deque([(start, height)])\n",
    "        \n",
    "        while queue:\n",
    "            curr_node, curr_height = queue.popleft()\n",
    "            visited[curr_node] = True\n",
    "            height = max(height, curr_height)\n",
    "            \n",
    "            for neighbor in graph[curr_node]:\n",
    "                if not visited[neighbor]:\n",
    "                    queue.append((neighbor, curr_height + 1))\n",
    "        \n",
    "        return height\n",
    "    \n",
    "    # Step 3: Find the minimum height roots\n",
    "    min_height = float('inf')\n",
    "    min_height_roots = []\n",
    "    \n",
    "    for node in range(n):\n",
    "        height = bfs(node)\n",
    "        \n",
    "        if height < min_height:\n",
    "            min_height = height\n",
    "            min_height_roots = [node]\n",
    "        elif height == min_height:\n",
    "            min_height_roots.append(node)\n",
    "    \n",
    "    return min_height_roots\n",
    "\n",
    "\n",
    "n = 4\n",
    "edges = [[1,0],[1,2],[1,3]]\n",
    "\n",
    "print(findMinHeightTrees(n, edges))  # Output: [0, 3]\n"
   ]
  },
  {
   "cell_type": "code",
   "execution_count": null,
   "metadata": {},
   "outputs": [],
   "source": [
    "\n",
    "class Solution(object):\n",
    "    def findMinHeightTrees(self, n, edges):\n",
    "        \"\"\"\n",
    "        Finds the root(s) of the minimum height trees in a graph.\n",
    "\n",
    "        Time complexity: O(V + E), where V is the number of nodes (vertices) and E is the number of edges.\n",
    "        Space complexity: O(V + E), as we store the graph using an adjacency list.\n",
    "        \"\"\"\n",
    "        if n == 1:\n",
    "            return [0]\n",
    "\n",
    "        # Step 1: Create an adjacency list representation of the graph\n",
    "        graph = defaultdict(list)\n",
    "        degree = [0] * n  # Track the degree of each node\n",
    "        for u, v in edges:\n",
    "            graph[u].append(v)\n",
    "            graph[v].append(u)\n",
    "            degree[u] += 1\n",
    "            degree[v] += 1\n",
    "\n",
    "        # Step 2: Find the initial set of leaves\n",
    "        leaves = deque()\n",
    "        for node in range(n):\n",
    "            if degree[node] == 1:\n",
    "                leaves.append(node)\n",
    "\n",
    "        # Step 3: Remove the outer layers of leaves until only the minimum height trees remain\n",
    "        while n > 2:\n",
    "            leaf_count = len(leaves)\n",
    "            n -= leaf_count\n",
    "\n",
    "            for _ in range(leaf_count):\n",
    "                leaf = leaves.popleft()\n",
    "                for neighbor in graph[leaf]:\n",
    "                    degree[neighbor] -= 1\n",
    "                    if degree[neighbor] == 1:\n",
    "                        leaves.append(neighbor)\n",
    "\n",
    "        # Step 4: Return the remaining nodes as the minimum height trees\n",
    "        return list(leaves)\n"
   ]
  },
  {
   "cell_type": "code",
   "execution_count": null,
   "metadata": {},
   "outputs": [],
   "source": []
  },
  {
   "attachments": {},
   "cell_type": "markdown",
   "metadata": {},
   "source": [
    "## 332 Reconstruct Itinerary"
   ]
  },
  {
   "cell_type": "code",
   "execution_count": 1,
   "metadata": {},
   "outputs": [
    {
     "name": "stdout",
     "output_type": "stream",
     "text": [
      "['JFK', 'ATL', 'JFK', 'SFO', 'ATL', 'SFO']\n"
     ]
    }
   ],
   "source": [
    "from collections import defaultdict\n",
    "\n",
    "class Solution(object):\n",
    "    def findItinerary(self, tickets):\n",
    "        \"\"\"\n",
    "        Finds the itinerary of a trip based on the given tickets.\n",
    "\n",
    "        Time complexity: O(E log E), where E is the number of tickets.\n",
    "        Space complexity: O(V + E), where V is the number of nodes (airports) and E is the number \n",
    "        of tickets (edges). In the worst case, the adjacency list representation of the graph will\n",
    "        store V nodes and E edges, resulting in a space complexity of O(V + E).\n",
    "\n",
    "        \"\"\"\n",
    "        # Build a graph using a defaultdict\n",
    "        graph = defaultdict(list)\n",
    "        for src, dst in tickets:\n",
    "            graph[src].append(dst)\n",
    "        \n",
    "        for src in graph.keys():\n",
    "            graph[src].sort()\n",
    "\n",
    "        itinerary = []\n",
    "\n",
    "        def dfs(src):\n",
    "            while graph[src]:  # Visit all available destinations\n",
    "                neighbor = graph[src].pop(0)\n",
    "                dfs(neighbor)\n",
    "\n",
    "            itinerary.append(src)\n",
    "\n",
    "        # Start DFS from \"JFK\" as the source airport\n",
    "        dfs(\"JFK\")\n",
    "\n",
    "        # Reverse the itinerary to get the correct order\n",
    "        return itinerary[::-1]\n",
    "\n",
    "\n",
    "# Example usage\n",
    "tickets = [[\"JFK\", \"SFO\"], [\"JFK\", \"ATL\"], [\"SFO\", \"ATL\"], [\"ATL\", \"JFK\"], [\"ATL\", \"SFO\"]]\n",
    "solution = Solution()\n",
    "print(solution.findItinerary(tickets))\n"
   ]
  },
  {
   "cell_type": "code",
   "execution_count": null,
   "metadata": {},
   "outputs": [],
   "source": []
  },
  {
   "attachments": {},
   "cell_type": "markdown",
   "metadata": {},
   "source": [
    "## 399. Evaluate Division\n"
   ]
  },
  {
   "cell_type": "code",
   "execution_count": 15,
   "metadata": {},
   "outputs": [
    {
     "data": {
      "text/plain": [
       "'\\nTime Complexity:\\n\\nBuilding the disjoint sets using the union operation takes O(N * α(N)), where N is the number of equations and α(N) is the inverse Ackermann \\nfunction. In practice, α(N) is very slow-growing and can be considered as a constant, so the time complexity becomes O(N).\\nPerforming the queries takes O(Q * α(N)), where Q is the number of queries and α(N) is again the inverse Ackermann function. Similarly, this can be considered as O(Q) in practice.\\nSpace Complexity:\\n\\nThe space complexity is O(N), where N is the number of equations. This is primarily for storing the parents and weights dictionaries.\\nNote: The inverse Ackermann function α(N) is extremely slow-growing and is practically considered as a constant for all reasonable values of N.\\n'"
      ]
     },
     "execution_count": 15,
     "metadata": {},
     "output_type": "execute_result"
    }
   ],
   "source": [
    "\"\"\"\n",
    "Time Complexity:\n",
    "\n",
    "Building the disjoint sets using the union operation takes O(N * α(N)), where N is the number of equations and α(N) is the inverse Ackermann \n",
    "function. In practice, α(N) is very slow-growing and can be considered as a constant, so the time complexity becomes O(N).\n",
    "Performing the queries takes O(Q * α(N)), where Q is the number of queries and α(N) is again the inverse Ackermann function. Similarly, \n",
    "this can be considered as O(Q) in practice.\n",
    "\n",
    "Space Complexity:\n",
    "\n",
    "The space complexity is O(N), where N is the number of equations. This is primarily for storing the parents and weights dictionaries.\n",
    "\n",
    "Note: \n",
    "    \n",
    "The inverse Ackermann function α(N) is extremely slow-growing and is practically considered as a constant for all reasonable values of N.\n",
    "\"\"\""
   ]
  },
  {
   "cell_type": "code",
   "execution_count": 14,
   "metadata": {},
   "outputs": [
    {
     "name": "stdout",
     "output_type": "stream",
     "text": [
      "[6.0, -1.0, -1.0, 1.0, -1.0]\n"
     ]
    }
   ],
   "source": [
    "def calcEquation(equations, values, queries):\n",
    "    # Step 1: Build the disjoint sets and initialize the weights\n",
    "    parents = {}  # Dictionary to store the parent of each variable\n",
    "    weights = {}  # Dictionary to store the weights from each variable to its parent\n",
    "\n",
    "    # Perform union operation for each equation with its corresponding value\n",
    "    for (u, v), value in zip(equations, values):\n",
    "        union(u, v, value, parents, weights)\n",
    "\n",
    "    # Step 2: Perform the queries\n",
    "    results = []\n",
    "    for u, v in queries:\n",
    "        if u not in parents or v not in parents:\n",
    "            # Either u or v (or both) is not in the disjoint sets, so the result is -1.0\n",
    "            results.append(-1.0)\n",
    "        else:\n",
    "            # Find the root parents and weights for u and v\n",
    "            root_u, weight_u = find(u, parents, weights)\n",
    "            root_v, weight_v = find(v, parents, weights)\n",
    "\n",
    "            if root_u != root_v:\n",
    "                # u and v are not in the same disjoint set, so the result is -1.0\n",
    "                results.append(-1.0)\n",
    "            else:\n",
    "                # u and v are in the same disjoint set, so the result is weight_u / weight_v\n",
    "                results.append(weight_u / weight_v)\n",
    "\n",
    "    return results\n",
    "\n",
    "\n",
    "def union(u, v, value, parents, weights):\n",
    "    # If u or v is not already in the disjoint sets, initialize their parents and weights\n",
    "    if u not in parents:\n",
    "        parents[u] = u\n",
    "        weights[u] = 1.0\n",
    "    if v not in parents:\n",
    "        parents[v] = v\n",
    "        weights[v] = 1.0\n",
    "\n",
    "    # Find the root parents and weights for u and v\n",
    "    root_u, weight_u = find(u, parents, weights)\n",
    "    root_v, weight_v = find(v, parents, weights)\n",
    "\n",
    "    if root_u != root_v:\n",
    "        # If u and v are not in the same disjoint set, perform union operation\n",
    "        parents[root_u] = root_v\n",
    "        weights[root_u] = value * weight_v / weight_u\n",
    "\n",
    "\n",
    "def find(x, parents, weights):\n",
    "    if x != parents[x]:\n",
    "        # Recursively find the root parent and weight for x\n",
    "        parent = parents[x]\n",
    "        parents[x], weight = find(parent, parents, weights)\n",
    "        weights[x] *= weight\n",
    "\n",
    "    return parents[x], weights[x]\n",
    "\n",
    "\n",
    "equations = [[\"a\", \"b\"], [\"b\", \"c\"], [\"d\", \"e\"]]\n",
    "values = [2.0, 3.0, 4.0]\n",
    "queries = [[\"a\", \"c\"], [\"b\", \"d\"], [\"e\", \"a\"], [\"a\", \"a\"], [\"x\", \"y\"]]\n",
    "print(calcEquation(equations, values, queries))\n"
   ]
  },
  {
   "cell_type": "code",
   "execution_count": null,
   "metadata": {},
   "outputs": [],
   "source": []
  },
  {
   "cell_type": "code",
   "execution_count": null,
   "metadata": {},
   "outputs": [],
   "source": [
    "from collections import defaultdict\n",
    "\n",
    "def calcEquation(equations, values, queries):\n",
    "    # Step 1: Build the graph and populate the values\n",
    "    graph = buildGraph(equations, values)\n",
    "\n",
    "    # Step 2: Perform the queries using DFS\n",
    "    results = []\n",
    "    for u, v in queries:\n",
    "        if u not in graph or v not in graph:\n",
    "            # Either u or v (or both) is not in the graph, so the result is -1.0\n",
    "            results.append(-1.0)\n",
    "        else:\n",
    "            visited = set()\n",
    "            result = dfs(u, v, graph, visited)\n",
    "            results.append(result)\n",
    "\n",
    "    return results\n",
    "\n",
    "\n",
    "def buildGraph(equations, values):\n",
    "    graph = defaultdict(dict)\n",
    "\n",
    "    for (u, v), value in zip(equations, values):\n",
    "        # Add an edge from u to v with the given value\n",
    "        graph[u][v] = value\n",
    "        # Add an edge from v to u with the reciprocal of the value\n",
    "        graph[v][u] = 1.0 / value\n",
    "\n",
    "    return graph\n",
    "\n",
    "\n",
    "def dfs(u, v, graph, visited):\n",
    "    # If u and v are the same, the result is 1.0\n",
    "    if u == v:\n",
    "        return 1.0\n",
    "\n",
    "    visited.add(u)\n",
    "\n",
    "    # Iterate through all neighbors of u\n",
    "    for neighbor in graph[u]:\n",
    "        if neighbor not in visited:\n",
    "            # Perform DFS on the neighbor\n",
    "            result = dfs(neighbor, v, graph, visited)\n",
    "            if result != -1.0:\n",
    "                # If a valid result is found, return the product of the value to the neighbor and the result\n",
    "                return graph[u][neighbor] * result\n",
    "\n",
    "    # If no valid result is found, return -1.0\n",
    "    return -1.0\n",
    "\n",
    "\n",
    "equations = [[\"a\", \"b\"], [\"b\", \"c\"], [\"d\", \"e\"]]\n",
    "values = [2.0, 3.0, 4.0]\n",
    "queries = [[\"a\", \"c\"], [\"b\", \"d\"], [\"e\", \"a\"], [\"a\", \"a\"], [\"x\", \"y\"]]\n",
    "print(calcEquation(equations, values, queries))\n"
   ]
  },
  {
   "cell_type": "code",
   "execution_count": null,
   "metadata": {},
   "outputs": [],
   "source": []
  },
  {
   "attachments": {},
   "cell_type": "markdown",
   "metadata": {},
   "source": [
    "## 684. Redundant Connection\n",
    "\n"
   ]
  },
  {
   "cell_type": "code",
   "execution_count": 19,
   "metadata": {},
   "outputs": [
    {
     "data": {
      "text/plain": [
       "'\\nTime Complexity : \\n\\nThe time complexity of the code is O(n * α(n)), where n is the number of edges and α is the inverse Ackermann function. In practice, \\nα(n) is a very slow-growing function and can be considered as constant for all practical purposes. Therefore, \\nwe can approximate the time complexity as O(n).\\n\\nSpace Complexity :\\n\\nThe space complexity of the code is O(n), where n is the number of edges. The parent and rank arrays store information\\nfor each node in the graph, resulting in O(n) space complexity.\\n\\nOverall, the code has a linear time complexity and linear space complexity with respect to the number of edges in the graph.\\n\\nNote: \\nThe inverse Ackermann function α(n) has a value less than 5 for all practical input sizes, so it can be considered constant in most cases.\\n'"
      ]
     },
     "execution_count": 19,
     "metadata": {},
     "output_type": "execute_result"
    }
   ],
   "source": [
    "\"\"\"\n",
    "Time Complexity : \n",
    "\n",
    "The time complexity of the code is O(n * α(n)), where n is the number of edges and α is the inverse Ackermann function. In practice, \n",
    "α(n) is a very slow-growing function and can be considered as constant for all practical purposes. Therefore, \n",
    "we can approximate the time complexity as O(n).\n",
    "\n",
    "Space Complexity :\n",
    "\n",
    "The space complexity of the code is O(n), where n is the number of edges. The parent and rank arrays store information\n",
    "for each node in the graph, resulting in O(n) space complexity.\n",
    "\n",
    "Overall, the code has a linear time complexity and linear space complexity with respect to the number of edges in the graph.\n",
    "\n",
    "Note: \n",
    "The inverse Ackermann function α(n) has a value less than 5 for all practical input sizes, so it can be considered constant in most cases.\n",
    "\"\"\""
   ]
  },
  {
   "cell_type": "code",
   "execution_count": 20,
   "metadata": {},
   "outputs": [
    {
     "name": "stdout",
     "output_type": "stream",
     "text": [
      "Redundant Edge: [2, 3]\n"
     ]
    }
   ],
   "source": [
    "def findRedundantConnection(edges):\n",
    "    # Step 1: Initialize the parent and rank arrays\n",
    "    parent = [i for i in range(len(edges) + 1)]  # Each node is initially its own parent\n",
    "    rank = [0] * (len(edges) + 1)  # Rank is initially 0 for each node\n",
    "\n",
    "    # Step 2: Perform union operation on each edge\n",
    "    for edge in edges:\n",
    "        u, v = edge\n",
    "        if union(u, v, parent, rank):\n",
    "            return edge\n",
    "\n",
    "    return []\n",
    "\n",
    "\n",
    "def union(u, v, parent, rank):\n",
    "    # Find the root parents of u and v\n",
    "    root_u = find(u, parent)\n",
    "    root_v = find(v, parent)\n",
    "\n",
    "    if root_u == root_v:\n",
    "        # u and v are already in the same set, forming a cycle\n",
    "        return True\n",
    "    else:\n",
    "        # Perform union by rank\n",
    "        if rank[root_u] < rank[root_v]:\n",
    "            parent[root_u] = root_v\n",
    "        elif rank[root_u] > rank[root_v]:\n",
    "            parent[root_v] = root_u\n",
    "        else:\n",
    "            parent[root_v] = root_u\n",
    "            rank[root_u] += 1\n",
    "\n",
    "        return False\n",
    "\n",
    "\n",
    "def find(x, parent):\n",
    "    # Find the root parent of x using path compression\n",
    "    if x != parent[x]:\n",
    "        parent[x] = find(parent[x], parent)\n",
    "\n",
    "    return parent[x]\n",
    "\n",
    "\n",
    "# Example usage\n",
    "edges = [[1, 2], [1, 3], [2, 3]]\n",
    "redundant_edge = findRedundantConnection(edges)\n",
    "print(\"Redundant Edge:\", redundant_edge)"
   ]
  },
  {
   "cell_type": "code",
   "execution_count": null,
   "metadata": {},
   "outputs": [],
   "source": []
  },
  {
   "cell_type": "code",
   "execution_count": 21,
   "metadata": {},
   "outputs": [
    {
     "name": "stdout",
     "output_type": "stream",
     "text": [
      "(1, 3)\n"
     ]
    }
   ],
   "source": [
    "from collections import defaultdict\n",
    "\n",
    "class Solution(object):\n",
    "    def findRedundantConnection(self, edges):\n",
    "        \"\"\"\n",
    "        Finds and returns the redundant connection in a graph represented by the given edges.\n",
    "\n",
    "        Time complexity: O(n^2), where n is the number of vertices.\n",
    "        Space complexity: O(n), where n is the number of vertices.\n",
    "        \"\"\"\n",
    "        # Step 1: Create an adjacency list representation of the graph\n",
    "        graph = defaultdict(list)\n",
    "        for u, v in edges:\n",
    "            graph[u].append(v)\n",
    "            graph[v].append(u)\n",
    "\n",
    "        # Step 2: Perform depth-first search (DFS) to find the redundant connection\n",
    "        visited = [False] * (len(edges) + 1)  # Initialize a visited array to track visited vertices\n",
    "        redundant = None  # Variable to store the redundant connection\n",
    "\n",
    "        def dfs(node, parent):\n",
    "            nonlocal redundant\n",
    "            visited[node] = True  # Mark the node as visited\n",
    "\n",
    "            for neighbor in graph[node]:\n",
    "                if neighbor == parent:\n",
    "                    continue  # Skip the parent node\n",
    "                if visited[neighbor]:\n",
    "                    redundant = (node, neighbor)  # Found redundant connection\n",
    "                    return\n",
    "                dfs(neighbor, node)  # Explore the neighbor recursively\n",
    "\n",
    "        # Step 3: Start DFS from any node in the graph\n",
    "        dfs(edges[0][0], None)\n",
    "\n",
    "        # Step 4: Return the redundant connection\n",
    "        return redundant\n",
    "\n",
    "\n",
    "# Example usage\n",
    "edges = [[1, 2], [1, 3], [2, 3]]\n",
    "solution = Solution()\n",
    "print(solution.findRedundantConnection(edges))\n"
   ]
  },
  {
   "cell_type": "code",
   "execution_count": null,
   "metadata": {},
   "outputs": [],
   "source": []
  },
  {
   "cell_type": "code",
   "execution_count": null,
   "metadata": {},
   "outputs": [],
   "source": []
  },
  {
   "cell_type": "code",
   "execution_count": null,
   "metadata": {},
   "outputs": [],
   "source": []
  }
 ],
 "metadata": {
  "kernelspec": {
   "display_name": "base",
   "language": "python",
   "name": "python3"
  },
  "language_info": {
   "codemirror_mode": {
    "name": "ipython",
    "version": 3
   },
   "file_extension": ".py",
   "mimetype": "text/x-python",
   "name": "python",
   "nbconvert_exporter": "python",
   "pygments_lexer": "ipython3",
   "version": "3.10.9"
  },
  "orig_nbformat": 4
 },
 "nbformat": 4,
 "nbformat_minor": 2
}
