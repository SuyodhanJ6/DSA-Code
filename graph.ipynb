{
 "cells": [
  {
   "attachments": {},
   "cell_type": "markdown",
   "metadata": {},
   "source": [
    "## Kruskal algorithm"
   ]
  },
  {
   "attachments": {},
   "cell_type": "markdown",
   "metadata": {},
   "source": [
    "### 1. It's used union find algorithm \n",
    "https://www.youtube.com/watch?v=aBxjDBC4M1U&ab_channel=takeUforward\n",
    "### its uses \n",
    "\n",
    "1. find parent\n",
    "2. Find Find rank \n",
    "3. Union\n",
    "\n",
    "\n",
    "The Time Complexity is O(4alpha)"
   ]
  },
  {
   "attachments": {},
   "cell_type": "markdown",
   "metadata": {},
   "source": []
  },
  {
   "cell_type": "code",
   "execution_count": null,
   "metadata": {},
   "outputs": [],
   "source": []
  },
  {
   "cell_type": "code",
   "execution_count": 12,
   "metadata": {},
   "outputs": [
    {
     "name": "stdout",
     "output_type": "stream",
     "text": [
      "Minimum Spanning Tree:\n",
      "A -- B : 5\n",
      "B -- E : 5\n",
      "C -- D : 6\n",
      "A -- D : 7\n"
     ]
    }
   ],
   "source": [
    "class DisjointSet:\n",
    "    def __init__(self, vertices):\n",
    "        self.parent = {}\n",
    "        self.rank = {}\n",
    "\n",
    "        for v in vertices:\n",
    "            self.parent[v] = v\n",
    "            self.rank[v] = 0\n",
    "\n",
    "    def find(self, v):\n",
    "        if self.parent[v] != v:\n",
    "            self.parent[v] = self.find(self.parent[v])  # Path compression\n",
    "        return self.parent[v]\n",
    "\n",
    "    def union(self, v1, v2):\n",
    "        root1 = self.find(v1)\n",
    "        root2 = self.find(v2)\n",
    "\n",
    "        if root1 != root2:\n",
    "            if self.rank[root1] < self.rank[root2]:\n",
    "                self.parent[root1] = root2\n",
    "            elif self.rank[root1] > self.rank[root2]:\n",
    "                self.parent[root2] = root1\n",
    "            else:\n",
    "                self.parent[root2] = root1\n",
    "                self.rank[root1] += 1\n",
    "\n",
    "\n",
    "def kruskal(graph):\n",
    "    mst = []\n",
    "    disjoint_set = DisjointSet(graph['vertices'])\n",
    "    edges = graph['edges']\n",
    "\n",
    "    sorted_edges = sorted(edges, key=lambda x: x[0])  # Sort edges in non-decreasing order of weights\n",
    "    # Time complexity: O(E log E) in worst case, O(E log V) in best case\n",
    "\n",
    "    for weight, v1, v2 in sorted_edges:\n",
    "        root1 = disjoint_set.find(v1)  # Find operation\n",
    "        root2 = disjoint_set.find(v2)  # Find operation\n",
    "\n",
    "        if root1 != root2:\n",
    "            mst.append((weight, v1, v2))\n",
    "            disjoint_set.union(root1, root2)  # Union operation\n",
    "        # Time complexity: O(log V) for each find and union operation\n",
    "\n",
    "    return mst\n",
    "\n",
    "\n",
    "# Example graph\n",
    "graph = {\n",
    "    'vertices': ['A', 'B', 'C', 'D', 'E'],\n",
    "    'edges': [\n",
    "        (5, 'A', 'B'),\n",
    "        (9, 'A', 'C'),\n",
    "        (7, 'A', 'D'),\n",
    "        (8, 'B', 'C'),\n",
    "        (5, 'B', 'E'),\n",
    "        (6, 'C', 'D'),\n",
    "        (7, 'C', 'E'),\n",
    "        (9, 'D', 'E'),\n",
    "    ]\n",
    "}\n",
    "\n",
    "# Run Kruskal's algorithm on the graph\n",
    "minimum_spanning_tree = kruskal(graph)\n",
    "print(\"Minimum Spanning Tree:\")\n",
    "for weight, v1, v2 in minimum_spanning_tree:\n",
    "    print(f\"{v1} -- {v2} : {weight}\")\n"
   ]
  },
  {
   "cell_type": "code",
   "execution_count": null,
   "metadata": {},
   "outputs": [],
   "source": []
  },
  {
   "cell_type": "code",
   "execution_count": null,
   "metadata": {},
   "outputs": [],
   "source": []
  },
  {
   "cell_type": "code",
   "execution_count": null,
   "metadata": {},
   "outputs": [],
   "source": [
    "\n"
   ]
  },
  {
   "cell_type": "code",
   "execution_count": 18,
   "metadata": {},
   "outputs": [
    {
     "data": {
      "text/plain": [
       "{0: 2}"
      ]
     },
     "execution_count": 18,
     "metadata": {},
     "output_type": "execute_result"
    }
   ],
   "source": [
    "a"
   ]
  },
  {
   "cell_type": "code",
   "execution_count": null,
   "metadata": {},
   "outputs": [],
   "source": []
  },
  {
   "cell_type": "code",
   "execution_count": null,
   "metadata": {},
   "outputs": [],
   "source": []
  },
  {
   "cell_type": "code",
   "execution_count": null,
   "metadata": {},
   "outputs": [],
   "source": []
  },
  {
   "cell_type": "code",
   "execution_count": null,
   "metadata": {},
   "outputs": [],
   "source": []
  },
  {
   "cell_type": "code",
   "execution_count": null,
   "metadata": {},
   "outputs": [],
   "source": []
  },
  {
   "cell_type": "code",
   "execution_count": null,
   "metadata": {},
   "outputs": [],
   "source": []
  },
  {
   "cell_type": "code",
   "execution_count": null,
   "metadata": {},
   "outputs": [],
   "source": []
  },
  {
   "cell_type": "code",
   "execution_count": null,
   "metadata": {},
   "outputs": [],
   "source": []
  },
  {
   "cell_type": "code",
   "execution_count": null,
   "metadata": {},
   "outputs": [],
   "source": []
  },
  {
   "cell_type": "code",
   "execution_count": null,
   "metadata": {},
   "outputs": [],
   "source": []
  },
  {
   "cell_type": "code",
   "execution_count": null,
   "metadata": {},
   "outputs": [],
   "source": []
  },
  {
   "attachments": {},
   "cell_type": "markdown",
   "metadata": {},
   "source": [
    "#  Practice"
   ]
  },
  {
   "cell_type": "code",
   "execution_count": 1,
   "metadata": {},
   "outputs": [],
   "source": [
    "from collections import deque\n",
    "\n",
    "# Create an empty deque\n",
    "queue = deque()"
   ]
  },
  {
   "cell_type": "code",
   "execution_count": 2,
   "metadata": {},
   "outputs": [],
   "source": [
    "queue.append(1)  # Append element at the right end\n"
   ]
  },
  {
   "cell_type": "code",
   "execution_count": 3,
   "metadata": {},
   "outputs": [
    {
     "data": {
      "text/plain": [
       "deque([1])"
      ]
     },
     "execution_count": 3,
     "metadata": {},
     "output_type": "execute_result"
    }
   ],
   "source": [
    "queue"
   ]
  },
  {
   "cell_type": "code",
   "execution_count": 4,
   "metadata": {},
   "outputs": [],
   "source": [
    "queue.appendleft(2)  # Append element at the left end\n"
   ]
  },
  {
   "cell_type": "code",
   "execution_count": 5,
   "metadata": {},
   "outputs": [
    {
     "data": {
      "text/plain": [
       "deque([2, 1])"
      ]
     },
     "execution_count": 5,
     "metadata": {},
     "output_type": "execute_result"
    }
   ],
   "source": [
    "queue"
   ]
  },
  {
   "cell_type": "code",
   "execution_count": 6,
   "metadata": {},
   "outputs": [],
   "source": [
    "queue.append(3)"
   ]
  },
  {
   "cell_type": "code",
   "execution_count": 7,
   "metadata": {},
   "outputs": [
    {
     "data": {
      "text/plain": [
       "deque([2, 1, 3])"
      ]
     },
     "execution_count": 7,
     "metadata": {},
     "output_type": "execute_result"
    }
   ],
   "source": [
    "queue"
   ]
  },
  {
   "cell_type": "code",
   "execution_count": 8,
   "metadata": {},
   "outputs": [],
   "source": [
    "queue.appendleft(4)"
   ]
  },
  {
   "cell_type": "code",
   "execution_count": 9,
   "metadata": {},
   "outputs": [
    {
     "data": {
      "text/plain": [
       "deque([4, 2, 1, 3])"
      ]
     },
     "execution_count": 9,
     "metadata": {},
     "output_type": "execute_result"
    }
   ],
   "source": [
    "queue"
   ]
  },
  {
   "cell_type": "code",
   "execution_count": 10,
   "metadata": {},
   "outputs": [],
   "source": [
    "first_element = queue.popleft() "
   ]
  },
  {
   "cell_type": "code",
   "execution_count": 11,
   "metadata": {},
   "outputs": [
    {
     "data": {
      "text/plain": [
       "4"
      ]
     },
     "execution_count": 11,
     "metadata": {},
     "output_type": "execute_result"
    }
   ],
   "source": [
    "first_element"
   ]
  },
  {
   "cell_type": "code",
   "execution_count": 12,
   "metadata": {},
   "outputs": [
    {
     "data": {
      "text/plain": [
       "deque([2, 1, 3])"
      ]
     },
     "execution_count": 12,
     "metadata": {},
     "output_type": "execute_result"
    }
   ],
   "source": [
    "queue"
   ]
  },
  {
   "cell_type": "code",
   "execution_count": 13,
   "metadata": {},
   "outputs": [],
   "source": [
    "\n",
    "last_element = queue.pop() "
   ]
  },
  {
   "cell_type": "code",
   "execution_count": 17,
   "metadata": {},
   "outputs": [
    {
     "data": {
      "text/plain": [
       "3"
      ]
     },
     "execution_count": 17,
     "metadata": {},
     "output_type": "execute_result"
    }
   ],
   "source": [
    "last_element"
   ]
  },
  {
   "cell_type": "code",
   "execution_count": 19,
   "metadata": {},
   "outputs": [
    {
     "data": {
      "text/plain": [
       "deque([2, 1])"
      ]
     },
     "execution_count": 19,
     "metadata": {},
     "output_type": "execute_result"
    }
   ],
   "source": [
    "queue"
   ]
  },
  {
   "cell_type": "code",
   "execution_count": 38,
   "metadata": {},
   "outputs": [
    {
     "name": "stdout",
     "output_type": "stream",
     "text": [
      "2\n",
      "1\n"
     ]
    }
   ],
   "source": [
    "for element in queue:\n",
    "    print(element)"
   ]
  },
  {
   "cell_type": "code",
   "execution_count": 39,
   "metadata": {},
   "outputs": [],
   "source": [
    "element_count = queue.count(4)"
   ]
  },
  {
   "cell_type": "code",
   "execution_count": 40,
   "metadata": {},
   "outputs": [
    {
     "data": {
      "text/plain": [
       "0"
      ]
     },
     "execution_count": 40,
     "metadata": {},
     "output_type": "execute_result"
    }
   ],
   "source": [
    "element_count"
   ]
  },
  {
   "cell_type": "code",
   "execution_count": 41,
   "metadata": {},
   "outputs": [
    {
     "data": {
      "text/plain": [
       "deque([2, 1])"
      ]
     },
     "execution_count": 41,
     "metadata": {},
     "output_type": "execute_result"
    }
   ],
   "source": [
    "queue"
   ]
  },
  {
   "cell_type": "code",
   "execution_count": 42,
   "metadata": {},
   "outputs": [],
   "source": [
    "re = deque(reversed(queue))"
   ]
  },
  {
   "cell_type": "code",
   "execution_count": 43,
   "metadata": {},
   "outputs": [
    {
     "data": {
      "text/plain": [
       "deque([1, 2])"
      ]
     },
     "execution_count": 43,
     "metadata": {},
     "output_type": "execute_result"
    }
   ],
   "source": [
    "re"
   ]
  },
  {
   "cell_type": "code",
   "execution_count": 44,
   "metadata": {},
   "outputs": [
    {
     "data": {
      "text/plain": [
       "deque([2, 1])"
      ]
     },
     "execution_count": 44,
     "metadata": {},
     "output_type": "execute_result"
    }
   ],
   "source": [
    "queue"
   ]
  },
  {
   "cell_type": "code",
   "execution_count": 47,
   "metadata": {},
   "outputs": [],
   "source": [
    "queue.rotate(2)"
   ]
  },
  {
   "cell_type": "code",
   "execution_count": 48,
   "metadata": {},
   "outputs": [
    {
     "data": {
      "text/plain": [
       "deque([1, 2])"
      ]
     },
     "execution_count": 48,
     "metadata": {},
     "output_type": "execute_result"
    }
   ],
   "source": [
    "queue"
   ]
  },
  {
   "cell_type": "code",
   "execution_count": 2,
   "metadata": {},
   "outputs": [],
   "source": [
    "import random\n",
    "\n",
    "greetings = ['hello', 'hi', 'grettings', 'howdy']\n",
    "responses = ['Hello!', 'Hi there!', 'Hey!' 'Grettings!', 'Howdy!' ]"
   ]
  },
  {
   "cell_type": "code",
   "execution_count": 4,
   "metadata": {},
   "outputs": [
    {
     "name": "stdout",
     "output_type": "stream",
     "text": [
      "Bot Hi there!\n",
      "Bot I'm sorry, I didn't understand\n"
     ]
    }
   ],
   "source": [
    "def getResponse(user_input):\n",
    "    if user_input.lower() in greetings:\n",
    "        return random.choice(responses)\n",
    "    else:\n",
    "        return \"I'm sorry, I didn't understand\"\n",
    "    \n",
    "while True:\n",
    "    user_input = input(\"User : \")\n",
    "\n",
    "    bot_response = getResponse(user_input)\n",
    "    print('Bot', bot_response)\n",
    "\n",
    "\n",
    "    if user_input.lower() == 'bye':\n",
    "        break"
   ]
  },
  {
   "cell_type": "code",
   "execution_count": 6,
   "metadata": {},
   "outputs": [
    {
     "name": "stdout",
     "output_type": "stream",
     "text": [
      "Bot: I'm sorry, I didn't understand that.\n"
     ]
    }
   ],
   "source": [
    "# Importing required libraries\n",
    "import random\n",
    "\n",
    "# Define a list of possible user greetings and corresponding bot responses\n",
    "greetings = ['hello', 'hi', 'hey', 'greetings', 'howdy']\n",
    "responses = ['Hello!', 'Hi there!', 'Hey!', 'Greetings!', 'Howdy!']\n",
    "\n",
    "# Define a function to generate a random response from the bot\n",
    "def generate_response(user_input):\n",
    "    # Check if the user input is a greeting\n",
    "    if user_input.lower() in greetings:\n",
    "        return random.choice(responses)\n",
    "\n",
    "    else:\n",
    "        return \"I'm sorry, I didn't understand that.\"\n",
    "\n",
    "# Main loop for user interaction\n",
    "while True:\n",
    "    # Get user input\n",
    "    user_input = input(\"User: \")\n",
    "\n",
    "    # Generate and print bot response\n",
    "    bot_response = generate_response(user_input)\n",
    "    print(\"Bot:\", bot_response)\n",
    "\n",
    "    # Check if the user wants to exit the chatbot\n",
    "    if user_input.lower() == 'bye':\n",
    "        break\n",
    "\n",
    "   \n"
   ]
  },
  {
   "cell_type": "code",
   "execution_count": 8,
   "metadata": {},
   "outputs": [
    {
     "name": "stdout",
     "output_type": "stream",
     "text": [
      "Hello!\n",
      "Hey!\n",
      "I'm sorry i don't understand\n",
      "I'm sorry i don't understand\n",
      "I' m goood what about you!\n",
      "I'm sorry i don't understand\n",
      "I'm sorry i don't understand\n",
      "I'm sorry i don't understand\n",
      "Hello!\n",
      "I'm sorry i don't understand\n",
      "I'm sorry i don't understand\n"
     ]
    }
   ],
   "source": [
    "import random \n",
    "\n",
    "gretting = [\"hi\", 'hello', 'hye', 'how are you']\n",
    "responses = ['Hey!', \"Hey there!\", 'Hello!']\n",
    "\n",
    "def getResponsee(user_input):\n",
    "    if user_input.lower() in greetings:\n",
    "        return random.choice(responses)\n",
    "    \n",
    "    elif user_input.lower() == \"how are you\":\n",
    "        return \"I' m goood what about you!\"\n",
    "    \n",
    "\n",
    "    else:\n",
    "        return \"I'm sorry i don't understand\"\n",
    "\n",
    "\n",
    "while user_input:\n",
    "    user_input = input(\"User : \")\n",
    "    \n",
    "    bot_response = getResponsee(user_input)\n",
    "    print(bot_response)\n",
    "\n",
    "    if user_input.lower() == \"bye\":\n",
    "        break"
   ]
  },
  {
   "cell_type": "code",
   "execution_count": 10,
   "metadata": {},
   "outputs": [],
   "source": [
    "from collections import defaultdict\n",
    "graph = defaultdict(list)\n",
    "graph['A'] = ['B', 'C', 'D', 'E']\n",
    "graph['B'] = ['A', 'C']\n",
    "graph['C'] = ['A', 'B', 'D']\n",
    "graph['D'] = ['A', 'C', 'E']\n",
    "graph['E'] = ['A', 'D']"
   ]
  },
  {
   "cell_type": "code",
   "execution_count": 11,
   "metadata": {},
   "outputs": [],
   "source": [
    "node_indices = {node: index for index, node in enumerate(graph)}"
   ]
  },
  {
   "cell_type": "code",
   "execution_count": 12,
   "metadata": {},
   "outputs": [
    {
     "data": {
      "text/plain": [
       "{'A': 0, 'B': 1, 'C': 2, 'D': 3, 'E': 4}"
      ]
     },
     "execution_count": 12,
     "metadata": {},
     "output_type": "execute_result"
    }
   ],
   "source": [
    "node_indices"
   ]
  },
  {
   "cell_type": "code",
   "execution_count": 13,
   "metadata": {},
   "outputs": [],
   "source": [
    "tickets = [[\"MUC\",\"LHR\"],[\"JFK\",\"MUC\"],[\"SFO\",\"SJC\"],[\"LHR\",\"SFO\"]]\n",
    "graph = defaultdict(list)\n",
    "\n",
    "for u, v in tickets:\n",
    "    graph[u].append(v)"
   ]
  },
  {
   "cell_type": "code",
   "execution_count": 18,
   "metadata": {},
   "outputs": [
    {
     "data": {
      "text/plain": [
       "defaultdict(list,\n",
       "            {'MUC': ['LHR'], 'JFK': ['MUC'], 'SFO': ['SJC'], 'LHR': ['SFO']})"
      ]
     },
     "execution_count": 18,
     "metadata": {},
     "output_type": "execute_result"
    }
   ],
   "source": [
    "graph"
   ]
  },
  {
   "cell_type": "code",
   "execution_count": 24,
   "metadata": {},
   "outputs": [],
   "source": [
    "i].sort()"
   ]
  },
  {
   "cell_type": "code",
   "execution_count": 20,
   "metadata": {},
   "outputs": [
    {
     "data": {
      "text/plain": [
       "defaultdict(list,\n",
       "            {'MUC': ['LHR'], 'JFK': ['MUC'], 'SFO': ['SJC'], 'LHR': ['SFO']})"
      ]
     },
     "execution_count": 20,
     "metadata": {},
     "output_type": "execute_result"
    }
   ],
   "source": [
    "graph"
   ]
  },
  {
   "cell_type": "code",
   "execution_count": null,
   "metadata": {},
   "outputs": [],
   "source": []
  }
 ],
 "metadata": {
  "kernelspec": {
   "display_name": "base",
   "language": "python",
   "name": "python3"
  },
  "language_info": {
   "codemirror_mode": {
    "name": "ipython",
    "version": 3
   },
   "file_extension": ".py",
   "mimetype": "text/x-python",
   "name": "python",
   "nbconvert_exporter": "python",
   "pygments_lexer": "ipython3",
   "version": "3.10.9"
  },
  "orig_nbformat": 4
 },
 "nbformat": 4,
 "nbformat_minor": 2
}
